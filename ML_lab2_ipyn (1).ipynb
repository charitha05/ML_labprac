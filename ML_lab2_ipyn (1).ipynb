{
  "nbformat": 4,
  "nbformat_minor": 0,
  "metadata": {
    "colab": {
      "provenance": [],
      "collapsed_sections": []
    },
    "kernelspec": {
      "name": "python3",
      "display_name": "Python 3"
    },
    "language_info": {
      "name": "python"
    }
  },
  "cells": [
    {
      "cell_type": "code",
      "execution_count": 2,
      "metadata": {
        "colab": {
          "base_uri": "https://localhost:8080/"
        },
        "id": "TNOOb4s3eSyV",
        "outputId": "51ed06f5-8199-4f26-c112-4a22e8573aab"
      },
      "outputs": [
        {
          "output_type": "stream",
          "name": "stdout",
          "text": [
            "Principle: 100\n",
            "Time: 2\n",
            "Rate10\n",
            "120.00000000000003\n"
          ]
        }
      ],
      "source": [
        "#Q1 Python basics\n",
        "p=int(input(\"Principle: \"))\n",
        "t=int(input(\"Time: \"))\n",
        "r=int(input(\"Rate\"))\n",
        "a=p*(1+r/100)*t\n",
        "ci=a-p\n",
        "print(ci)"
      ]
    },
    {
      "cell_type": "code",
      "source": [
        "#Q2 Python basics\n",
        "n=int(input(\"enter size\"))\n",
        "l=list()\n",
        "for i in range(n):\n",
        "  l.append(input())\n",
        "p=list()\n",
        "for i in range(n):\n",
        "  per=(l.count(l[i])/n)*100\n",
        "  p.append(per)\n",
        "print(p)"
      ],
      "metadata": {
        "colab": {
          "base_uri": "https://localhost:8080/"
        },
        "id": "a6fifV3gfZOQ",
        "outputId": "c356b9de-3a12-43d8-f2a5-c888eca2186d"
      },
      "execution_count": 4,
      "outputs": [
        {
          "output_type": "stream",
          "name": "stdout",
          "text": [
            "enter size5\n",
            "he\n",
            "hi\n",
            "he\n",
            "hi\n",
            "hi\n",
            "[40.0, 60.0, 40.0, 60.0, 60.0]\n"
          ]
        }
      ]
    },
    {
      "cell_type": "markdown",
      "source": [
        "5 ==> 1,0,1 \n",
        "4 ==> 100\n",
        "3 ==> 11\n",
        "6 ==> 110"
      ],
      "metadata": {
        "id": "sopsGhwKhjG4"
      }
    },
    {
      "cell_type": "code",
      "source": [
        "#Q3 Python basics\n",
        "n=int(input(\"Enter\"))\n",
        "x=list()\n",
        "while(n!=0):\n",
        "  x.append(n%2)\n",
        "  n=int(n/2)\n",
        "y=x[::-1]\n",
        "if(y==y[::-1]):\n",
        "  print(\"True\")\n",
        "else:\n",
        "  print(\"False\")"
      ],
      "metadata": {
        "colab": {
          "base_uri": "https://localhost:8080/"
        },
        "id": "Ju5DC7Rrgu4d",
        "outputId": "d1633306-ed6f-4e52-f06c-ff1d85a70d7b"
      },
      "execution_count": 13,
      "outputs": [
        {
          "output_type": "stream",
          "name": "stdout",
          "text": [
            "Enter6\n",
            "False\n"
          ]
        }
      ]
    },
    {
      "cell_type": "code",
      "source": [
        "#Q4 Python basics\n",
        "n=int(input(\"Enter\"))\n",
        "x=list(map(int,str(n)))\n",
        "flag=0\n",
        "for i in x:\n",
        "  if(int(i)!=0 and n%int(i)!=0):\n",
        "    flag=1\n",
        "    break\n",
        "if(flag==1):\n",
        "  print(\"No\")\n",
        "else:\n",
        "  print(\"Yes\")"
      ],
      "metadata": {
        "colab": {
          "base_uri": "https://localhost:8080/"
        },
        "id": "11lguOf9i4rJ",
        "outputId": "8d7c4299-60fd-4e18-ded8-13dbaf612b53"
      },
      "execution_count": 18,
      "outputs": [
        {
          "output_type": "stream",
          "name": "stdout",
          "text": [
            "Enter346\n",
            "No\n"
          ]
        }
      ]
    },
    {
      "cell_type": "code",
      "source": [
        "#Q5 Python basics\n",
        "n=int(input(\"Enter\"))\n",
        "x=list()\n",
        "for i in range(n):\n",
        "  x.append(int(input()))\n",
        "x.sort()\n",
        "print(x[n-2])"
      ],
      "metadata": {
        "colab": {
          "base_uri": "https://localhost:8080/"
        },
        "id": "R3D-M3cJkCMe",
        "outputId": "9c36e128-b0d4-4cc6-c687-ccf3ca7172e9"
      },
      "execution_count": 19,
      "outputs": [
        {
          "output_type": "stream",
          "name": "stdout",
          "text": [
            "Enter5\n",
            "1\n",
            "2\n",
            "3\n",
            "5\n",
            "4\n",
            "4\n"
          ]
        }
      ]
    },
    {
      "cell_type": "code",
      "source": [
        "#Q1 Numpy basics\n",
        "import random\n",
        "out=list()\n",
        "for i in range(4):\n",
        "  in1=list()\n",
        "  for j in range(5):\n",
        "    in2=list()\n",
        "    for k in range(2):\n",
        "      in2.append(random.randrange(1,10))\n",
        "    in1.append(in2)\n",
        "  out.append(in1)\n",
        "out"
      ],
      "metadata": {
        "colab": {
          "base_uri": "https://localhost:8080/"
        },
        "id": "LWmmM772k03z",
        "outputId": "30d8bb85-6d4b-48f5-d150-2fa2690c989a"
      },
      "execution_count": 1,
      "outputs": [
        {
          "output_type": "execute_result",
          "data": {
            "text/plain": [
              "[[[9, 3], [9, 4], [4, 1], [9, 7], [3, 6]],\n",
              " [[4, 7], [7, 4], [1, 7], [3, 3], [4, 1]],\n",
              " [[8, 1], [8, 7], [1, 7], [2, 4], [5, 4]],\n",
              " [[9, 2], [3, 8], [9, 2], [9, 7], [4, 9]]]"
            ]
          },
          "metadata": {},
          "execution_count": 1
        }
      ]
    },
    {
      "cell_type": "code",
      "source": [
        "#Q2 Numpy basics\n",
        "from numpy import random\n",
        "n=int(input(\"Enter\"))\n",
        "x=random.randint(100,size=(n))\n",
        "out=list()\n",
        "in1=list()\n",
        "for i in range(int(n/2)):\n",
        "  in1.append(x[i])\n",
        "out.append(in1)\n",
        "in1=list()\n",
        "for j in range(i,n):\n",
        "  in1.append(x[j])\n",
        "out.append(in1)\n",
        "out"
      ],
      "metadata": {
        "colab": {
          "base_uri": "https://localhost:8080/"
        },
        "id": "SGwG5AkNm5YN",
        "outputId": "6ea3a305-392a-4707-c46e-046e9940dd42"
      },
      "execution_count": 24,
      "outputs": [
        {
          "name": "stdout",
          "output_type": "stream",
          "text": [
            "Enter10\n"
          ]
        },
        {
          "output_type": "execute_result",
          "data": {
            "text/plain": [
              "[[45, 40, 49, 44, 55], [55, 14, 48, 16, 50, 26]]"
            ]
          },
          "metadata": {},
          "execution_count": 24
        }
      ]
    },
    {
      "cell_type": "code",
      "source": [
        "#Q3 Numpy basics\n",
        "import numpy as np\n",
        "x=np.array([34,1,4,8,15])\n",
        "for i in range(len(x)):\n",
        "  x[i]=(x[i]*(9/5))+32\n",
        "x"
      ],
      "metadata": {
        "colab": {
          "base_uri": "https://localhost:8080/"
        },
        "id": "PUmHORV9rC21",
        "outputId": "62076c00-ddf5-4e9c-d1d9-0d77e0467b58"
      },
      "execution_count": 2,
      "outputs": [
        {
          "output_type": "execute_result",
          "data": {
            "text/plain": [
              "array([93, 33, 39, 46, 59])"
            ]
          },
          "metadata": {},
          "execution_count": 2
        }
      ]
    },
    {
      "cell_type": "code",
      "source": [
        "#Q4 Numpy basics\n",
        "x=np.array([[1,2,3,4],[5,6,7,8],[9,10,11,12]])\n",
        "print(\"Number of dimensions: \",x.ndim)\n",
        "print(\"Number of elements: \",x.size)\n",
        "print(\"Number of bytes: \",x.itemsize)\n",
        "#x.shape"
      ],
      "metadata": {
        "colab": {
          "base_uri": "https://localhost:8080/"
        },
        "id": "1hamxtvVrX9N",
        "outputId": "fc75d22f-9bdc-4f01-ceac-36cf61377cdf"
      },
      "execution_count": 7,
      "outputs": [
        {
          "output_type": "stream",
          "name": "stdout",
          "text": [
            "Number of dimensions:  2\n",
            "Number of elements:  12\n",
            "Number of bytes:  8\n"
          ]
        },
        {
          "output_type": "execute_result",
          "data": {
            "text/plain": [
              "(3, 4)"
            ]
          },
          "metadata": {},
          "execution_count": 7
        }
      ]
    },
    {
      "cell_type": "code",
      "source": [
        "#Q5 Numpy basics\n",
        "x=np.array([[1,2,3,4],[5,6,7,8],[9,10,11,12]])\n",
        "print(x)\n",
        "print(x[0][1],x[0][2])\n",
        "print(x[1][1],x[1][2])"
      ],
      "metadata": {
        "colab": {
          "base_uri": "https://localhost:8080/"
        },
        "id": "fhku6N42slMh",
        "outputId": "e986fc46-0d3a-4b25-b628-930cc7eb4b72"
      },
      "execution_count": 9,
      "outputs": [
        {
          "output_type": "stream",
          "name": "stdout",
          "text": [
            "[[ 1  2  3  4]\n",
            " [ 5  6  7  8]\n",
            " [ 9 10 11 12]]\n",
            "2 3\n",
            "6 7\n"
          ]
        }
      ]
    },
    {
      "cell_type": "code",
      "source": [
        "new_array = np.random.randint(10, size=(4,5,2))\n",
        "new_array"
      ],
      "metadata": {
        "colab": {
          "base_uri": "https://localhost:8080/"
        },
        "id": "G5QiH4sjwgnR",
        "outputId": "abed6e9e-e6aa-46af-facb-1cd8e5e403f5"
      },
      "execution_count": 11,
      "outputs": [
        {
          "output_type": "execute_result",
          "data": {
            "text/plain": [
              "array([[[8, 6],\n",
              "        [4, 0],\n",
              "        [5, 1],\n",
              "        [8, 8],\n",
              "        [6, 7]],\n",
              "\n",
              "       [[7, 4],\n",
              "        [1, 3],\n",
              "        [9, 7],\n",
              "        [4, 8],\n",
              "        [7, 2]],\n",
              "\n",
              "       [[7, 1],\n",
              "        [9, 1],\n",
              "        [0, 9],\n",
              "        [7, 2],\n",
              "        [8, 5]],\n",
              "\n",
              "       [[1, 3],\n",
              "        [6, 6],\n",
              "        [8, 6],\n",
              "        [0, 0],\n",
              "        [8, 3]]])"
            ]
          },
          "metadata": {},
          "execution_count": 11
        }
      ]
    }
  ]
}